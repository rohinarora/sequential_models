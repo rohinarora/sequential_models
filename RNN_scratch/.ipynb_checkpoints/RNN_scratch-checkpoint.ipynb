{
 "cells": [
  {
   "cell_type": "code",
   "execution_count": 36,
   "metadata": {
    "collapsed": true
   },
   "outputs": [],
   "source": [
    "import numpy as np"
   ]
  },
  {
   "cell_type": "code",
   "execution_count": 37,
   "metadata": {
    "collapsed": true
   },
   "outputs": [],
   "source": [
    "def softmax(x):\n",
    "    x=x-np.max(x)\n",
    "    return np.exp(x)/np.sum(np.exp(x),axis=0)"
   ]
  },
  {
   "cell_type": "code",
   "execution_count": 38,
   "metadata": {
    "collapsed": true
   },
   "outputs": [],
   "source": [
    "def rnn_cell_forward(xt, a_prev, parameters):\n",
    "    Wax = parameters[\"Wax\"]\n",
    "    Waa = parameters[\"Waa\"]\n",
    "    Wya = parameters[\"Wya\"]\n",
    "    ba = parameters[\"ba\"]\n",
    "    by = parameters[\"by\"]\n",
    "    a_next=np.tanh(np.matmul(Wax,xt)+np.matmul(Waa,a_prev)+ba)\n",
    "    yt_pred=softmax(np.matmul(Wya,a_next)+by)\n",
    "    cache=(a_prev,a_next,xt,parameters)\n",
    "    return yt_pred,cache"
   ]
  },
  {
   "cell_type": "code",
   "execution_count": 40,
   "metadata": {
    "collapsed": true
   },
   "outputs": [],
   "source": [
    "def rnn_forward(x, a0, parameters):\n",
    "    n_x,m,T_x=x.shape\n",
    "    n_a=a0.shape[0]\n",
    "    a=np.zeros((n_a,m,T_x))\n",
    "    Wya=parameters[\"Wya\"]\n",
    "    n_y=Wya.shape[0]\n",
    "    y_pred=np.zeros((n_y,m,T_x))\n",
    "    caches=[]\n",
    "    a_prev=a0\n",
    "    for t in range(T_x):\n",
    "        yt_pred,cache=rnn_cell_forward(x[:,:,t], a_prev, parameters)\n",
    "        _,a_next,_,_=cache\n",
    "        a[:,:,t]=a_next\n",
    "        y_pred[:,:,t]=yt_pred\n",
    "        caches.append(cache)\n",
    "        a_prev=a_next\n",
    "    caches = (caches, x)\n",
    "    return a, y_pred, caches"
   ]
  },
  {
   "cell_type": "code",
   "execution_count": 41,
   "metadata": {
    "collapsed": true
   },
   "outputs": [],
   "source": [
    "def rnn_cell_backward(da_next, cache):\n",
    "    a_prev,a_next,xt,parameters=cache\n",
    "    dtemp=1-(a_next*a_next)\n",
    "    dWaa=np.matmul(da_next*dtemp,a_prev.T) # * operation on matrix is dot product by default\n",
    "    dWax=np.matmul(da_next*dtemp,xt.T)\n",
    "    dxt= np.matmul(Wax.T,da_next*dtemp)\n",
    "    da_prev= np.matmul(Waa.T,da_next*dtemp)\n",
    "    dba=np.sum(da_next*dtemp,axis=1,keepdims=True)\n",
    "    gradients = {\"dxt\": dxt, \"da_prev\": da_prev, \"dWax\": dWax, \"dWaa\": dWaa, \"dba\": dba}\n",
    "    return gradients"
   ]
  },
  {
   "cell_type": "code",
   "execution_count": 42,
   "metadata": {
    "collapsed": true
   },
   "outputs": [],
   "source": [
    "def rnn_backward(da, caches):\n",
    "    caches,x=caches\n",
    "    n_x,m,T_x=x.shape\n",
    "    a0,a1,x1,parameters=caches[0]\n",
    "    n_a=a0.shape[0]\n",
    "    da_prev=np.zeros((n_a,m)) \n",
    "    dx = np.zeros((n_x, m, T_x))\n",
    "    dWax = np.zeros((n_a, n_x))\n",
    "    dWaa = np.zeros((n_a, n_a))\n",
    "    dba = np.zeros((n_a, 1))\n",
    "    da0 = np.zeros((n_a, m))\n",
    "    for t in reversed(range(T_x)):\n",
    "        gradients=rnn_cell_backward(da_prev+da[:,:,t], caches[t])\n",
    "        dxt, da_prev, dWaxt, dWaat, dbat = gradients[\"dxt\"], gradients[\"da_prev\"], gradients[\"dWax\"], gradients[\"dWaa\"], gradients[\"dba\"]\n",
    "        dx[:, :, t] = dxt\n",
    "        dWax += dWaxt\n",
    "        dWaa += dWaat\n",
    "        dba += dbat\n",
    "    da0 = da_prev\n",
    "    gradients = {\"dx\": dx, \"da0\": da0, \"dWax\": dWax, \"dWaa\": dWaa,\"dba\": dba}\n",
    "    return gradients"
   ]
  },
  {
   "cell_type": "markdown",
   "metadata": {},
   "source": [
    "### Equations used-"
   ]
  },
  {
   "cell_type": "markdown",
   "metadata": {},
   "source": [
    "<img src=\"images/IMG_2171.jpg\" >\n",
    "<img src=\"images/IMG_2185.jpg\" >\n",
    "<img src=\"images/IMG_2186.jpg\" >\n",
    "<img src=\"images/IMG_2187.jpg\" >\n",
    "<img src=\"images/IMG_2188.jpg\" >"
   ]
  },
  {
   "cell_type": "code",
   "execution_count": null,
   "metadata": {
    "collapsed": true
   },
   "outputs": [],
   "source": []
  }
 ],
 "metadata": {
  "kernelspec": {
   "display_name": "Python 3",
   "language": "python",
   "name": "python3"
  },
  "language_info": {
   "codemirror_mode": {
    "name": "ipython",
    "version": 3
   },
   "file_extension": ".py",
   "mimetype": "text/x-python",
   "name": "python",
   "nbconvert_exporter": "python",
   "pygments_lexer": "ipython3",
   "version": "3.6.1"
  }
 },
 "nbformat": 4,
 "nbformat_minor": 2
}
